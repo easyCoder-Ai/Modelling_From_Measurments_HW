{
 "cells": [
  {
   "cell_type": "code",
   "execution_count": 19,
   "metadata": {},
   "outputs": [],
   "source": [
    "############################### Import Libraries ###########################\n",
    "import pandas as pd\n",
    "import matplotlib.pyplot as plt\n",
    "import pandas_ta as ta\n",
    "import numpy as np\n",
    "import seaborn as sns\n",
    "from sklearn.model_selection import train_test_split\n",
    "from sklearn.preprocessing import StandardScaler\n",
    "from sklearn.decomposition import PCA\n",
    "from sklearn.manifold import TSNE\n",
    "from sklearn.decomposition import TruncatedSVD"
   ]
  },
  {
   "cell_type": "markdown",
   "metadata": {},
   "source": [
    "# Load Data"
   ]
  },
  {
   "cell_type": "code",
   "execution_count": 15,
   "metadata": {},
   "outputs": [],
   "source": [
    "class dataPreProcessing:\n",
    "\n",
    "    def __init__(self, path) -> None:\n",
    "        self. path = path \n",
    "        \n",
    "\n",
    "    def dataLoader(self):\n",
    "        data = pd.read_csv(self. path, index_col=0)\n",
    "        data['Date'] = pd.to_datetime(data['Date'])\n",
    "        data.set_index('Date', inplace=True, drop=True)\n",
    "        return(data)\n",
    "    \n",
    "    def featureExtraction(self, data):\n",
    "        data['MA60'] = data['Close'].rolling(window=60).mean()\n",
    "        data['EMA20'] = data['Close'].ewm(span=20, adjust=False).mean()\n",
    "        data['RSI'] = ta.rsi(data['Close'], length=14)\n",
    "        macd = ta.macd(data['Close'], fast=12, slow=26, signal=9)\n",
    "        data['MACD'] = macd['MACD_12_26_9']\n",
    "        data['MACD_signal'] = macd['MACDs_12_26_9']\n",
    "        bbands = ta.bbands(self. data['Close'], length=20, std=2)\n",
    "        data['BB_Middle'] = bbands['BBM_20_2.0']  # Middle Band\n",
    "        data['BB_Upper'] = bbands['BBU_20_2.0']   # Upper Band\n",
    "        data['BB_Lower'] = bbands['BBL_20_2.0']   # Lower Band\n",
    "\n",
    "        return(data)\n",
    "\n",
    "    def normlalization(self, data):\n",
    "\n",
    "        for column in list(data.columns):\n",
    "            min = data[column].min()\n",
    "            max = data[column].max()\n",
    "            data[column] = (data[column] - min) / (max - min)\n",
    "            \n"
   ]
  },
  {
   "cell_type": "code",
   "execution_count": 17,
   "metadata": {},
   "outputs": [
    {
     "name": "stdout",
     "output_type": "stream",
     "text": [
      "            Volume  Open  High       Low  Close\n",
      "Date                                           \n",
      "2018-01-02    8944  8.05  8.13  7.730000   7.79\n",
      "2018-01-03    7528  7.75  7.97  7.730000   7.82\n",
      "2018-01-04    7649  7.89  7.92  7.740000   7.76\n",
      "2018-01-05    5342  7.75  7.84  7.740000   7.78\n",
      "2018-01-08   12789  7.76  7.92  7.609231   7.67\n"
     ]
    }
   ],
   "source": [
    "path = r'data/test5_1d.csv'\n",
    "dataFunction = dataPreProcessing(path) \n",
    "data = dataFunction.dataLoader()\n",
    "print(data.head())\n",
    "\n"
   ]
  },
  {
   "cell_type": "code",
   "execution_count": 9,
   "metadata": {},
   "outputs": [
    {
     "name": "stdout",
     "output_type": "stream",
     "text": [
      "            Volume  Open  High       Low  Close\n",
      "Date                                           \n",
      "2018-01-02    8944  8.05  8.13  7.730000   7.79\n",
      "2018-01-03    7528  7.75  7.97  7.730000   7.82\n",
      "2018-01-04    7649  7.89  7.92  7.740000   7.76\n",
      "2018-01-05    5342  7.75  7.84  7.740000   7.78\n",
      "2018-01-08   12789  7.76  7.92  7.609231   7.67\n"
     ]
    }
   ],
   "source": [
    "path = r'data/test5_1d.csv'\n",
    "data = pd.read_csv(path, index_col=0)\n",
    "data['Date'] = pd.to_datetime(data['Date'])\n",
    "data.set_index('Date', inplace=True, drop=True)\n",
    "\n",
    "print(data.head())"
   ]
  },
  {
   "cell_type": "markdown",
   "metadata": {},
   "source": [
    "# Add Features"
   ]
  },
  {
   "cell_type": "code",
   "execution_count": 10,
   "metadata": {},
   "outputs": [
    {
     "name": "stdout",
     "output_type": "stream",
     "text": [
      "            Volume   Open       High        Low     Close       MA60  \\\n",
      "Date                                                                   \n",
      "2018-01-02    8944   8.05   8.130000   7.730000   7.79000        NaN   \n",
      "2018-01-03    7528   7.75   7.970000   7.730000   7.82000        NaN   \n",
      "2018-01-04    7649   7.89   7.920000   7.740000   7.76000        NaN   \n",
      "2018-01-05    5342   7.75   7.840000   7.740000   7.78000        NaN   \n",
      "2018-01-08   12789   7.76   7.920000   7.609231   7.67000        NaN   \n",
      "...            ...    ...        ...        ...       ...        ...   \n",
      "2023-06-05   23218  79.05  83.410000  78.010000  82.86000  88.995514   \n",
      "2023-06-06   17637  83.00  83.480000  80.280000  81.64000  88.686681   \n",
      "2023-06-07   17777  81.64  84.092308  80.080000  83.86000  88.492972   \n",
      "2023-06-08   15161  83.99  84.950000  82.569259  83.35000  88.334306   \n",
      "2023-06-09    7723  83.44  85.630000  83.440000  85.12625  88.265910   \n",
      "\n",
      "                EMA20        RSI      MACD  MACD_signal  \n",
      "Date                                                     \n",
      "2018-01-02   7.790000        NaN       NaN          NaN  \n",
      "2018-01-03   7.792857        NaN       NaN          NaN  \n",
      "2018-01-04   7.789728        NaN       NaN          NaN  \n",
      "2018-01-05   7.788801        NaN       NaN          NaN  \n",
      "2018-01-08   7.777487        NaN       NaN          NaN  \n",
      "...               ...        ...       ...          ...  \n",
      "2023-06-05  84.153658  44.078094 -2.334675    -1.919458  \n",
      "2023-06-06  83.914262  41.450316 -2.244482    -1.984463  \n",
      "2023-06-07  83.909094  47.574981 -1.971145    -1.981799  \n",
      "2023-06-08  83.855847  46.374813 -1.775214    -1.940482  \n",
      "2023-06-09  83.976838  51.010214 -1.459780    -1.844342  \n",
      "\n",
      "[1355 rows x 10 columns]\n"
     ]
    }
   ],
   "source": [
    "#################### Add Features to data ###################\n",
    "data['MA60'] = data['Close'].rolling(window=60).mean()\n",
    "data['EMA20'] = data['Close'].ewm(span=20, adjust=False).mean()\n",
    "data['RSI'] = ta.rsi(data['Close'], length=14)\n",
    "macd = ta.macd(data['Close'], fast=12, slow=26, signal=9)\n",
    "data['MACD'] = macd['MACD_12_26_9']\n",
    "data['MACD_signal'] = macd['MACDs_12_26_9']\n",
    "bbands = ta.bbands(data['Close'], length=20, std=2)\n",
    "\n",
    "print(data)"
   ]
  },
  {
   "cell_type": "markdown",
   "metadata": {},
   "source": [
    "# Eliminate columns with high correlations "
   ]
  },
  {
   "cell_type": "code",
   "execution_count": 11,
   "metadata": {},
   "outputs": [
    {
     "name": "stdout",
     "output_type": "stream",
     "text": [
      "            Volume       MA60      EMA20        RSI      MACD  BB_Middle\n",
      "Date                                                                    \n",
      "2018-03-26   13135   9.622167  11.323217  79.800600  0.776014  11.162500\n",
      "2018-03-27   19922   9.719841  11.544861  83.348003  0.865848  11.337024\n",
      "2018-03-28   34621   9.806508  11.685350  71.223704  0.876068  11.483024\n",
      "2018-03-29   13901   9.899174  11.841031  73.219933  0.898024  11.649524\n",
      "2018-04-03   17698   9.991174  11.979981  72.857072  0.903396  11.808024\n",
      "...            ...        ...        ...        ...       ...        ...\n",
      "2023-06-05   23218  88.995514  84.153658  44.078094 -2.334675  85.268500\n",
      "2023-06-06   17637  88.686681  83.914262  41.450316 -2.244482  84.975000\n",
      "2023-06-07   17777  88.492972  83.909094  47.574981 -1.971145  84.715333\n",
      "2023-06-08   15161  88.334306  83.855847  46.374813 -1.775214  84.454333\n",
      "2023-06-09    7723  88.265910  83.976838  51.010214 -1.459780  84.264146\n",
      "\n",
      "[1296 rows x 6 columns]\n"
     ]
    }
   ],
   "source": [
    "data['BB_Middle'] = bbands['BBM_20_2.0']  # Middle Band\n",
    "data['BB_Upper'] = bbands['BBU_20_2.0']   # Upper Band\n",
    "data['BB_Lower'] = bbands['BBL_20_2.0']   # Lower Band\n",
    "\n",
    "dada = data.drop(columns=['Open', 'High', 'Low', 'Close', 'MACD_signal', 'BB_Upper', 'BB_Lower'], inplace=True)\n",
    "data.dropna(inplace=True)\n",
    "\n",
    "\n",
    "print(data)"
   ]
  },
  {
   "cell_type": "markdown",
   "metadata": {},
   "source": [
    "# target claculation"
   ]
  },
  {
   "cell_type": "code",
   "execution_count": 13,
   "metadata": {},
   "outputs": [
    {
     "name": "stdout",
     "output_type": "stream",
     "text": [
      "            Volume       MA60      EMA20        RSI      MACD  BB_Middle  \\\n",
      "Date                                                                       \n",
      "2018-03-26   13135   9.622167  11.323217  79.800600  0.776014  11.162500   \n",
      "2018-03-27   19922   9.719841  11.544861  83.348003  0.865848  11.337024   \n",
      "2018-03-28   34621   9.806508  11.685350  71.223704  0.876068  11.483024   \n",
      "2018-03-29   13901   9.899174  11.841031  73.219933  0.898024  11.649524   \n",
      "2018-04-03   17698   9.991174  11.979981  72.857072  0.903396  11.808024   \n",
      "...            ...        ...        ...        ...       ...        ...   \n",
      "2023-06-01   21375  89.591097  84.895078  30.048842 -2.325390  85.726000   \n",
      "2023-06-02   15627  89.269514  84.289832  29.351471 -2.540053  85.405000   \n",
      "2023-06-05   23218  88.995514  84.153658  44.078094 -2.334675  85.268500   \n",
      "2023-06-06   17637  88.686681  83.914262  41.450316 -2.244482  84.975000   \n",
      "2023-06-07   17777  88.492972  83.909094  47.574981 -1.971145  84.715333   \n",
      "\n",
      "              target  \n",
      "Date                  \n",
      "2018-03-26 -0.097675  \n",
      "2018-03-27 -0.086667  \n",
      "2018-03-28 -0.092667  \n",
      "2018-03-29 -0.092000  \n",
      "2018-04-03 -0.091350  \n",
      "...              ...  \n",
      "2023-06-01  0.321583  \n",
      "2023-06-02  0.274000  \n",
      "2023-06-05  0.308833  \n",
      "2023-06-06  0.193708  \n",
      "2023-06-07  0.158667  \n",
      "\n",
      "[1294 rows x 7 columns]\n"
     ]
    }
   ],
   "source": [
    "data['target'] = data['MA60'] - data['MA60'].shift(-1)\n",
    "data.dropna(inplace=True)\n",
    "\n",
    "print(data)"
   ]
  },
  {
   "cell_type": "markdown",
   "metadata": {},
   "source": [
    "# data normalization"
   ]
  },
  {
   "cell_type": "code",
   "execution_count": 14,
   "metadata": {},
   "outputs": [
    {
     "name": "stdout",
     "output_type": "stream",
     "text": [
      "              Volume      MA60     EMA20       RSI      MACD  BB_Middle  \\\n",
      "Date                                                                      \n",
      "2018-03-26  0.126773  0.000000  0.000000  0.882223  0.573366   0.000000   \n",
      "2018-03-27  0.195540  0.001163  0.002623  0.929866  0.580917   0.002040   \n",
      "2018-03-28  0.344472  0.002196  0.004285  0.767030  0.581776   0.003746   \n",
      "2018-03-29  0.134534  0.003299  0.006127  0.793841  0.583621   0.005692   \n",
      "2018-04-03  0.173006  0.004395  0.007771  0.788967  0.584073   0.007544   \n",
      "...              ...       ...       ...       ...       ...        ...   \n",
      "2023-06-01  0.210262  0.952429  0.870559  0.214030  0.312671   0.871435   \n",
      "2023-06-02  0.152022  0.948599  0.863397  0.204664  0.294627   0.867683   \n",
      "2023-06-05  0.228935  0.945336  0.861786  0.402451  0.311891   0.866088   \n",
      "2023-06-06  0.172388  0.941657  0.858953  0.367158  0.319472   0.862658   \n",
      "2023-06-07  0.173806  0.939350  0.858892  0.449416  0.342448   0.859623   \n",
      "\n",
      "              target  \n",
      "Date                  \n",
      "2018-03-26  0.517279  \n",
      "2018-03-27  0.528050  \n",
      "2018-03-28  0.522179  \n",
      "2018-03-29  0.522831  \n",
      "2018-04-03  0.523467  \n",
      "...              ...  \n",
      "2023-06-01  0.927511  \n",
      "2023-06-02  0.880952  \n",
      "2023-06-05  0.915036  \n",
      "2023-06-06  0.802389  \n",
      "2023-06-07  0.768102  \n",
      "\n",
      "[1294 rows x 7 columns]\n"
     ]
    }
   ],
   "source": [
    "for column in list(data.columns):\n",
    "\n",
    "    min = data[column].min()\n",
    "    max = data[column].max()\n",
    "    data[column] = (data[column] - min) / (max - min)\n",
    "\n",
    "print(data)"
   ]
  },
  {
   "cell_type": "markdown",
   "metadata": {},
   "source": [
    "# train and test seperation"
   ]
  },
  {
   "cell_type": "code",
   "execution_count": null,
   "metadata": {},
   "outputs": [],
   "source": [
    "x = data.drop(columns=['target'])  # Features\n",
    "y = data['target']  # Target\n",
    "x_train, x_test, y_train, y_test = train_test_split(x, y, test_size=0.2, random_state=42)"
   ]
  }
 ],
 "metadata": {
  "kernelspec": {
   "display_name": "torch",
   "language": "python",
   "name": "python3"
  },
  "language_info": {
   "codemirror_mode": {
    "name": "ipython",
    "version": 3
   },
   "file_extension": ".py",
   "mimetype": "text/x-python",
   "name": "python",
   "nbconvert_exporter": "python",
   "pygments_lexer": "ipython3",
   "version": "3.10.14"
  }
 },
 "nbformat": 4,
 "nbformat_minor": 2
}
